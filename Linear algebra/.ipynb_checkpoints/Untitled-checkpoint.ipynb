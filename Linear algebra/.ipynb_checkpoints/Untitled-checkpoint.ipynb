{
 "cells": [
  {
   "cell_type": "code",
   "execution_count": 1,
   "id": "30efe974-3e40-4ee6-946d-20db5c8994a0",
   "metadata": {},
   "outputs": [],
   "source": [
    "import numpy as np\n",
    "import matplotlib.pyplot as plt"
   ]
  },
  {
   "cell_type": "markdown",
   "id": "8c20eed4-dcfe-40ce-b3a9-8118e38ce8e4",
   "metadata": {},
   "source": [
    "### Define an array\n",
    "### Define a matrix\n",
    "### Do dot multiplication\n",
    "### Do matrix multiplication"
   ]
  },
  {
   "cell_type": "code",
   "execution_count": 17,
   "id": "35b363e0-b03f-4ac9-a669-b3f017f93cad",
   "metadata": {},
   "outputs": [
    {
     "name": "stdout",
     "output_type": "stream",
     "text": [
      "X is an array: [1 1 1 1]\n",
      "Y is an array: [2 2 2 2] \n",
      "\n",
      "The dot product of X and Y is: 8\n",
      "The dot product of X and Y is: 8 \n",
      "\n",
      "The matrix a is:\n",
      " [[1 2 3]\n",
      " [4 5 6]]\n",
      "The matrix b is:\n",
      " [[ 4 16]\n",
      " [ 8 20]\n",
      " [12 24]] \n",
      "\n",
      "The shape of matrix a is: (2, 3)\n",
      "The shape of matrix b is: (3, 2) \n",
      "\n",
      "The size of matrix of a and b is: 6 6 respectively \n",
      "\n",
      "The matrix multiplication of a and b is:\n",
      " [[ 56 128]\n",
      " [128 308]]\n",
      "The matrix multiplication of a and b is:\n",
      " [[ 56 128]\n",
      " [128 308]]\n"
     ]
    }
   ],
   "source": [
    "# x and y array\n",
    "x = np.array([1,1,1,1])\n",
    "y = np.array([2,2,2,2])\n",
    "\n",
    "print (\"X is an array:\",x)\n",
    "print(\"Y is an array:\",y,'\\n')\n",
    "#Dot multiplication of x and y\n",
    "z = np.dot(x,y)\n",
    "print(\"The dot product of X and Y is:\",sum(x*y))\n",
    "print(\"The dot prodc\n",
    "print(\"The dot product of X and Y is:\",z,'\\n')\n",
    "\n",
    "\n",
    "#a and b are matrices\n",
    "a = np.array([[1,2,3],[4,5,6]])\n",
    "b = np.transpose(a)*4\n",
    "print(\"The matrix a is:\\n\",a)\n",
    "print(\"The matrix b is:\\n\",b,'\\n')\n",
    "print(\"The shape of matrix a is:\",np.shape(a))\n",
    "print(\"The shape of matrix b is:\",np.shape(b),'\\n')\n",
    "print(\"The size of matrix of a and b is:\",np.size(a),np.size(b),'respectively \\n')\n",
    "\n",
    "#c matrix multiplication of a and b\n",
    "print(\"The matrix multiplication of a and b is:\\n\",a@b)\n",
    "print(\"The matrix multiplication of a and b is:\\n\",np.matmul(a,b))"
   ]
  },
  {
   "cell_type": "code",
   "execution_count": null,
   "id": "835936c8-a731-471e-833f-2ce6cdcf911d",
   "metadata": {},
   "outputs": [],
   "source": []
  }
 ],
 "metadata": {
  "kernelspec": {
   "display_name": "Python 3 (ipykernel)",
   "language": "python",
   "name": "python3"
  },
  "language_info": {
   "codemirror_mode": {
    "name": "ipython",
    "version": 3
   },
   "file_extension": ".py",
   "mimetype": "text/x-python",
   "name": "python",
   "nbconvert_exporter": "python",
   "pygments_lexer": "ipython3",
   "version": "3.11.7"
  }
 },
 "nbformat": 4,
 "nbformat_minor": 5
}
